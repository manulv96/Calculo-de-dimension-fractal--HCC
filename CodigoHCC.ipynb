{
 "cells": [
  {
   "cell_type": "markdown",
   "id": "b8e8c300",
   "metadata": {},
   "source": [
    "# Trabajo final HCC"
   ]
  },
  {
   "cell_type": "code",
   "execution_count": 10,
   "id": "0d1fa7ee",
   "metadata": {},
   "outputs": [],
   "source": []
  }
 ],
 "metadata": {
  "kernelspec": {
   "display_name": "Python 3 (ipykernel)",
   "language": "python",
   "name": "python3"
  },
  "language_info": {
   "codemirror_mode": {
    "name": "ipython",
    "version": 3
   },
   "file_extension": ".py",
   "mimetype": "text/x-python",
   "name": "python",
   "nbconvert_exporter": "python",
   "pygments_lexer": "ipython3",
   "version": "3.8.13"
  }
 },
 "nbformat": 4,
 "nbformat_minor": 5
}
